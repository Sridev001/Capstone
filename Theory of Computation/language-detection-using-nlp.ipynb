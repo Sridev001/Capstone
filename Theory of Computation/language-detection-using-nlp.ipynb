{
 "cells": [
  {
   "cell_type": "code",
   "execution_count": 1,
   "metadata": {
    "_cell_guid": "b1076dfc-b9ad-4769-8c92-a6c4dae69d19",
    "_uuid": "8f2839f25d086af736a60e9eeb907d3b93b6e0e5",
    "execution": {
     "iopub.execute_input": "2021-02-10T17:52:00.065894Z",
     "iopub.status.busy": "2021-02-10T17:52:00.065157Z",
     "iopub.status.idle": "2021-02-10T17:52:00.076560Z",
     "shell.execute_reply": "2021-02-10T17:52:00.075891Z"
    },
    "papermill": {
     "duration": 0.032858,
     "end_time": "2021-02-10T17:52:00.076755",
     "exception": false,
     "start_time": "2021-02-10T17:52:00.043897",
     "status": "completed"
    },
    "tags": []
   },
   "outputs": [
    {
     "name": "stdout",
     "output_type": "stream",
     "text": [
      "/kaggle/input/language-detection/Language Detection.csv\n"
     ]
    }
   ],
   "source": [
    "# This Python 3 environment comes with many helpful analytics libraries installed\n",
    "# It is defined by the kaggle/python Docker image: https://github.com/kaggle/docker-python\n",
    "# For example, here's several helpful packages to load\n",
    "\n",
    "import numpy as np # linear algebra\n",
    "import pandas as pd # data processing, CSV file I/O (e.g. pd.read_csv)\n",
    "\n",
    "# Input data files are available in the read-only \"../input/\" directory\n",
    "# For example, running this (by clicking run or pressing Shift+Enter) will list all files under the input directory\n",
    "\n",
    "import os\n",
    "for dirname, _, filenames in os.walk('/kaggle/input'):\n",
    "    for filename in filenames:\n",
    "        print(os.path.join(dirname, filename))\n",
    "\n",
    "# You can write up to 20GB to the current directory (/kaggle/working/) that gets preserved as output when you create a version using \"Save & Run All\" \n",
    "# You can also write temporary files to /kaggle/temp/, but they won't be saved outside of the current session"
   ]
  },
  {
   "cell_type": "code",
   "execution_count": 2,
   "metadata": {
    "execution": {
     "iopub.execute_input": "2021-02-10T17:52:00.110673Z",
     "iopub.status.busy": "2021-02-10T17:52:00.109940Z",
     "iopub.status.idle": "2021-02-10T17:52:00.953770Z",
     "shell.execute_reply": "2021-02-10T17:52:00.953045Z"
    },
    "papermill": {
     "duration": 0.862649,
     "end_time": "2021-02-10T17:52:00.953914",
     "exception": false,
     "start_time": "2021-02-10T17:52:00.091265",
     "status": "completed"
    },
    "tags": []
   },
   "outputs": [],
   "source": [
    "import pandas as pd\n",
    "import numpy as np\n",
    "import re\n",
    "import seaborn as sns\n",
    "import matplotlib.pyplot as plt\n",
    "import pickle\n",
    "\n",
    "import warnings\n",
    "warnings.simplefilter(\"ignore\")"
   ]
  },
  {
   "cell_type": "code",
   "execution_count": 3,
   "metadata": {
    "execution": {
     "iopub.execute_input": "2021-02-10T17:52:00.984601Z",
     "iopub.status.busy": "2021-02-10T17:52:00.983913Z",
     "iopub.status.idle": "2021-02-10T17:52:01.082792Z",
     "shell.execute_reply": "2021-02-10T17:52:01.082083Z"
    },
    "papermill": {
     "duration": 0.115309,
     "end_time": "2021-02-10T17:52:01.082935",
     "exception": false,
     "start_time": "2021-02-10T17:52:00.967626",
     "status": "completed"
    },
    "tags": []
   },
   "outputs": [],
   "source": [
    "# Loading the dataset\n",
    "data = pd.read_csv(\"/kaggle/input/language-detection/Language Detection.csv\")"
   ]
  },
  {
   "cell_type": "code",
   "execution_count": 4,
   "metadata": {
    "execution": {
     "iopub.execute_input": "2021-02-10T17:52:01.123627Z",
     "iopub.status.busy": "2021-02-10T17:52:01.122981Z",
     "iopub.status.idle": "2021-02-10T17:52:01.143985Z",
     "shell.execute_reply": "2021-02-10T17:52:01.143376Z"
    },
    "papermill": {
     "duration": 0.047317,
     "end_time": "2021-02-10T17:52:01.144144",
     "exception": false,
     "start_time": "2021-02-10T17:52:01.096827",
     "status": "completed"
    },
    "tags": []
   },
   "outputs": [
    {
     "data": {
      "text/html": [
       "<div>\n",
       "<style scoped>\n",
       "    .dataframe tbody tr th:only-of-type {\n",
       "        vertical-align: middle;\n",
       "    }\n",
       "\n",
       "    .dataframe tbody tr th {\n",
       "        vertical-align: top;\n",
       "    }\n",
       "\n",
       "    .dataframe thead th {\n",
       "        text-align: right;\n",
       "    }\n",
       "</style>\n",
       "<table border=\"1\" class=\"dataframe\">\n",
       "  <thead>\n",
       "    <tr style=\"text-align: right;\">\n",
       "      <th></th>\n",
       "      <th>Text</th>\n",
       "      <th>Language</th>\n",
       "    </tr>\n",
       "  </thead>\n",
       "  <tbody>\n",
       "    <tr>\n",
       "      <th>0</th>\n",
       "      <td>Nature, in the broadest sense, is the natural...</td>\n",
       "      <td>English</td>\n",
       "    </tr>\n",
       "    <tr>\n",
       "      <th>1</th>\n",
       "      <td>\"Nature\" can refer to the phenomena of the phy...</td>\n",
       "      <td>English</td>\n",
       "    </tr>\n",
       "    <tr>\n",
       "      <th>2</th>\n",
       "      <td>The study of nature is a large, if not the onl...</td>\n",
       "      <td>English</td>\n",
       "    </tr>\n",
       "    <tr>\n",
       "      <th>3</th>\n",
       "      <td>Although humans are part of nature, human acti...</td>\n",
       "      <td>English</td>\n",
       "    </tr>\n",
       "    <tr>\n",
       "      <th>4</th>\n",
       "      <td>[1] The word nature is borrowed from the Old F...</td>\n",
       "      <td>English</td>\n",
       "    </tr>\n",
       "    <tr>\n",
       "      <th>5</th>\n",
       "      <td>[2] In ancient philosophy, natura is mostly us...</td>\n",
       "      <td>English</td>\n",
       "    </tr>\n",
       "    <tr>\n",
       "      <th>6</th>\n",
       "      <td>[3][4] \\nThe concept of nature as a whole, the...</td>\n",
       "      <td>English</td>\n",
       "    </tr>\n",
       "    <tr>\n",
       "      <th>7</th>\n",
       "      <td>During the advent of modern scientific method ...</td>\n",
       "      <td>English</td>\n",
       "    </tr>\n",
       "    <tr>\n",
       "      <th>8</th>\n",
       "      <td>[5][6] With the Industrial revolution, nature ...</td>\n",
       "      <td>English</td>\n",
       "    </tr>\n",
       "    <tr>\n",
       "      <th>9</th>\n",
       "      <td>However, a vitalist vision of nature, closer t...</td>\n",
       "      <td>English</td>\n",
       "    </tr>\n",
       "  </tbody>\n",
       "</table>\n",
       "</div>"
      ],
      "text/plain": [
       "                                                Text Language\n",
       "0   Nature, in the broadest sense, is the natural...  English\n",
       "1  \"Nature\" can refer to the phenomena of the phy...  English\n",
       "2  The study of nature is a large, if not the onl...  English\n",
       "3  Although humans are part of nature, human acti...  English\n",
       "4  [1] The word nature is borrowed from the Old F...  English\n",
       "5  [2] In ancient philosophy, natura is mostly us...  English\n",
       "6  [3][4] \\nThe concept of nature as a whole, the...  English\n",
       "7  During the advent of modern scientific method ...  English\n",
       "8  [5][6] With the Industrial revolution, nature ...  English\n",
       "9  However, a vitalist vision of nature, closer t...  English"
      ]
     },
     "execution_count": 4,
     "metadata": {},
     "output_type": "execute_result"
    }
   ],
   "source": [
    "data.head(10)"
   ]
  },
  {
   "cell_type": "code",
   "execution_count": 5,
   "metadata": {
    "execution": {
     "iopub.execute_input": "2021-02-10T17:52:01.184973Z",
     "iopub.status.busy": "2021-02-10T17:52:01.184087Z",
     "iopub.status.idle": "2021-02-10T17:52:01.188257Z",
     "shell.execute_reply": "2021-02-10T17:52:01.187707Z"
    },
    "papermill": {
     "duration": 0.029968,
     "end_time": "2021-02-10T17:52:01.188395",
     "exception": false,
     "start_time": "2021-02-10T17:52:01.158427",
     "status": "completed"
    },
    "tags": []
   },
   "outputs": [
    {
     "data": {
      "text/plain": [
       "English       1385\n",
       "French        1014\n",
       "Spanish        819\n",
       "Portugeese     739\n",
       "Italian        698\n",
       "Russian        692\n",
       "Sweedish       676\n",
       "Malayalam      594\n",
       "Dutch          546\n",
       "Arabic         536\n",
       "Turkish        474\n",
       "German         470\n",
       "Tamil          469\n",
       "Danish         428\n",
       "Kannada        369\n",
       "Greek          365\n",
       "Hindi           63\n",
       "Name: Language, dtype: int64"
      ]
     },
     "execution_count": 5,
     "metadata": {},
     "output_type": "execute_result"
    }
   ],
   "source": [
    "# value count for each language\n",
    "data[\"Language\"].value_counts()"
   ]
  },
  {
   "cell_type": "code",
   "execution_count": 6,
   "metadata": {
    "execution": {
     "iopub.execute_input": "2021-02-10T17:52:01.221335Z",
     "iopub.status.busy": "2021-02-10T17:52:01.220696Z",
     "iopub.status.idle": "2021-02-10T17:52:01.224491Z",
     "shell.execute_reply": "2021-02-10T17:52:01.225053Z"
    },
    "papermill": {
     "duration": 0.021949,
     "end_time": "2021-02-10T17:52:01.225259",
     "exception": false,
     "start_time": "2021-02-10T17:52:01.203310",
     "status": "completed"
    },
    "tags": []
   },
   "outputs": [],
   "source": [
    "# separating the independent and dependant features\n",
    "X = data[\"Text\"]\n",
    "y = data[\"Language\"]"
   ]
  },
  {
   "cell_type": "code",
   "execution_count": 7,
   "metadata": {
    "execution": {
     "iopub.execute_input": "2021-02-10T17:52:01.258240Z",
     "iopub.status.busy": "2021-02-10T17:52:01.257609Z",
     "iopub.status.idle": "2021-02-10T17:52:01.410574Z",
     "shell.execute_reply": "2021-02-10T17:52:01.409018Z"
    },
    "papermill": {
     "duration": 0.170581,
     "end_time": "2021-02-10T17:52:01.410730",
     "exception": false,
     "start_time": "2021-02-10T17:52:01.240149",
     "status": "completed"
    },
    "tags": []
   },
   "outputs": [],
   "source": [
    "# converting categorical variables to numerical\n",
    "\n",
    "from sklearn.preprocessing import LabelEncoder\n",
    "le = LabelEncoder()\n",
    "y = le.fit_transform(y)"
   ]
  },
  {
   "cell_type": "markdown",
   "metadata": {
    "papermill": {
     "duration": 0.014833,
     "end_time": "2021-02-10T17:52:01.440860",
     "exception": false,
     "start_time": "2021-02-10T17:52:01.426027",
     "status": "completed"
    },
    "tags": []
   },
   "source": [
    "# Text Preprocessing"
   ]
  },
  {
   "cell_type": "code",
   "execution_count": 8,
   "metadata": {
    "execution": {
     "iopub.execute_input": "2021-02-10T17:52:01.522793Z",
     "iopub.status.busy": "2021-02-10T17:52:01.512517Z",
     "iopub.status.idle": "2021-02-10T17:52:01.564276Z",
     "shell.execute_reply": "2021-02-10T17:52:01.563732Z"
    },
    "papermill": {
     "duration": 0.107972,
     "end_time": "2021-02-10T17:52:01.564412",
     "exception": false,
     "start_time": "2021-02-10T17:52:01.456440",
     "status": "completed"
    },
    "tags": []
   },
   "outputs": [],
   "source": [
    "data_list = []\n",
    "for text in X:\n",
    "    text = re.sub(r'[!@#$(),\\n\"%^*?\\:;~`0-9]', ' ', text)\n",
    "    text = re.sub(r'[[]]', ' ', text)\n",
    "    text = text.lower()\n",
    "    data_list.append(text)"
   ]
  },
  {
   "cell_type": "markdown",
   "metadata": {
    "papermill": {
     "duration": 0.015254,
     "end_time": "2021-02-10T17:52:01.595015",
     "exception": false,
     "start_time": "2021-02-10T17:52:01.579761",
     "status": "completed"
    },
    "tags": []
   },
   "source": [
    "# Bag of Words"
   ]
  },
  {
   "cell_type": "code",
   "execution_count": 9,
   "metadata": {
    "execution": {
     "iopub.execute_input": "2021-02-10T17:52:01.630415Z",
     "iopub.status.busy": "2021-02-10T17:52:01.629810Z",
     "iopub.status.idle": "2021-02-10T17:52:02.445708Z",
     "shell.execute_reply": "2021-02-10T17:52:02.445157Z"
    },
    "papermill": {
     "duration": 0.834361,
     "end_time": "2021-02-10T17:52:02.445855",
     "exception": false,
     "start_time": "2021-02-10T17:52:01.611494",
     "status": "completed"
    },
    "tags": []
   },
   "outputs": [],
   "source": [
    "# creating bag of words using countvectorizer\n",
    "\n",
    "from sklearn.feature_extraction.text import CountVectorizer\n",
    "cv = CountVectorizer()\n",
    "X = cv.fit_transform(data_list).toarray()"
   ]
  },
  {
   "cell_type": "code",
   "execution_count": 10,
   "metadata": {
    "execution": {
     "iopub.execute_input": "2021-02-10T17:52:02.481951Z",
     "iopub.status.busy": "2021-02-10T17:52:02.481032Z",
     "iopub.status.idle": "2021-02-10T17:52:02.485484Z",
     "shell.execute_reply": "2021-02-10T17:52:02.484838Z"
    },
    "papermill": {
     "duration": 0.024393,
     "end_time": "2021-02-10T17:52:02.485626",
     "exception": false,
     "start_time": "2021-02-10T17:52:02.461233",
     "status": "completed"
    },
    "tags": []
   },
   "outputs": [
    {
     "data": {
      "text/plain": [
       "(10337, 39404)"
      ]
     },
     "execution_count": 10,
     "metadata": {},
     "output_type": "execute_result"
    }
   ],
   "source": [
    "X.shape"
   ]
  },
  {
   "cell_type": "markdown",
   "metadata": {
    "papermill": {
     "duration": 0.015694,
     "end_time": "2021-02-10T17:52:02.517146",
     "exception": false,
     "start_time": "2021-02-10T17:52:02.501452",
     "status": "completed"
    },
    "tags": []
   },
   "source": [
    "# Train Test Split"
   ]
  },
  {
   "cell_type": "code",
   "execution_count": 11,
   "metadata": {
    "execution": {
     "iopub.execute_input": "2021-02-10T17:52:02.553947Z",
     "iopub.status.busy": "2021-02-10T17:52:02.553282Z",
     "iopub.status.idle": "2021-02-10T17:52:04.672035Z",
     "shell.execute_reply": "2021-02-10T17:52:04.672576Z"
    },
    "papermill": {
     "duration": 2.139796,
     "end_time": "2021-02-10T17:52:04.672760",
     "exception": false,
     "start_time": "2021-02-10T17:52:02.532964",
     "status": "completed"
    },
    "tags": []
   },
   "outputs": [],
   "source": [
    "from sklearn.model_selection import train_test_split\n",
    "\n",
    "x_train, x_test, y_train, y_test = train_test_split(X, y, test_size = 0.20)"
   ]
  },
  {
   "cell_type": "markdown",
   "metadata": {
    "papermill": {
     "duration": 0.015847,
     "end_time": "2021-02-10T17:52:04.704861",
     "exception": false,
     "start_time": "2021-02-10T17:52:04.689014",
     "status": "completed"
    },
    "tags": []
   },
   "source": [
    "# Model creation and Prediction\n"
   ]
  },
  {
   "cell_type": "code",
   "execution_count": 12,
   "metadata": {
    "execution": {
     "iopub.execute_input": "2021-02-10T17:52:04.747118Z",
     "iopub.status.busy": "2021-02-10T17:52:04.746445Z",
     "iopub.status.idle": "2021-02-10T17:52:34.949612Z",
     "shell.execute_reply": "2021-02-10T17:52:34.950127Z"
    },
    "papermill": {
     "duration": 30.229279,
     "end_time": "2021-02-10T17:52:34.950303",
     "exception": false,
     "start_time": "2021-02-10T17:52:04.721024",
     "status": "completed"
    },
    "tags": []
   },
   "outputs": [
    {
     "data": {
      "text/plain": [
       "MultinomialNB()"
      ]
     },
     "execution_count": 12,
     "metadata": {},
     "output_type": "execute_result"
    }
   ],
   "source": [
    "from sklearn.naive_bayes import MultinomialNB\n",
    "\n",
    "model = MultinomialNB()\n",
    "model.fit(x_train, y_train)"
   ]
  },
  {
   "cell_type": "code",
   "execution_count": 13,
   "metadata": {
    "execution": {
     "iopub.execute_input": "2021-02-10T17:52:34.988161Z",
     "iopub.status.busy": "2021-02-10T17:52:34.987520Z",
     "iopub.status.idle": "2021-02-10T17:52:37.404847Z",
     "shell.execute_reply": "2021-02-10T17:52:37.404230Z"
    },
    "papermill": {
     "duration": 2.437964,
     "end_time": "2021-02-10T17:52:37.404984",
     "exception": false,
     "start_time": "2021-02-10T17:52:34.967020",
     "status": "completed"
    },
    "tags": []
   },
   "outputs": [],
   "source": [
    "# prediction \n",
    "y_pred = model.predict(x_test)"
   ]
  },
  {
   "cell_type": "markdown",
   "metadata": {
    "papermill": {
     "duration": 0.016432,
     "end_time": "2021-02-10T17:52:37.438350",
     "exception": false,
     "start_time": "2021-02-10T17:52:37.421918",
     "status": "completed"
    },
    "tags": []
   },
   "source": [
    "# prediction \n"
   ]
  },
  {
   "cell_type": "code",
   "execution_count": 14,
   "metadata": {
    "execution": {
     "iopub.execute_input": "2021-02-10T17:52:37.476748Z",
     "iopub.status.busy": "2021-02-10T17:52:37.476015Z",
     "iopub.status.idle": "2021-02-10T17:52:37.495623Z",
     "shell.execute_reply": "2021-02-10T17:52:37.495035Z"
    },
    "papermill": {
     "duration": 0.041095,
     "end_time": "2021-02-10T17:52:37.495777",
     "exception": false,
     "start_time": "2021-02-10T17:52:37.454682",
     "status": "completed"
    },
    "tags": []
   },
   "outputs": [],
   "source": [
    "from sklearn.metrics import accuracy_score, confusion_matrix, classification_report\n",
    "\n",
    "ac = accuracy_score(y_test, y_pred)\n",
    "cm = confusion_matrix(y_test, y_pred)\n",
    "cr = classification_report(y_test, y_pred)"
   ]
  },
  {
   "cell_type": "code",
   "execution_count": 15,
   "metadata": {
    "execution": {
     "iopub.execute_input": "2021-02-10T17:52:37.533855Z",
     "iopub.status.busy": "2021-02-10T17:52:37.533288Z",
     "iopub.status.idle": "2021-02-10T17:52:37.536858Z",
     "shell.execute_reply": "2021-02-10T17:52:37.537389Z"
    },
    "papermill": {
     "duration": 0.025062,
     "end_time": "2021-02-10T17:52:37.537544",
     "exception": false,
     "start_time": "2021-02-10T17:52:37.512482",
     "status": "completed"
    },
    "tags": []
   },
   "outputs": [
    {
     "name": "stdout",
     "output_type": "stream",
     "text": [
      "Accuracy is : 0.9811411992263056\n"
     ]
    }
   ],
   "source": [
    "print(\"Accuracy is :\",ac)"
   ]
  },
  {
   "cell_type": "code",
   "execution_count": 16,
   "metadata": {
    "execution": {
     "iopub.execute_input": "2021-02-10T17:52:37.575830Z",
     "iopub.status.busy": "2021-02-10T17:52:37.575222Z",
     "iopub.status.idle": "2021-02-10T17:52:37.579168Z",
     "shell.execute_reply": "2021-02-10T17:52:37.579890Z"
    },
    "papermill": {
     "duration": 0.025512,
     "end_time": "2021-02-10T17:52:37.580114",
     "exception": false,
     "start_time": "2021-02-10T17:52:37.554602",
     "status": "completed"
    },
    "tags": []
   },
   "outputs": [
    {
     "name": "stdout",
     "output_type": "stream",
     "text": [
      "              precision    recall  f1-score   support\n",
      "\n",
      "           0       1.00      0.97      0.99       115\n",
      "           1       0.99      0.96      0.97        77\n",
      "           2       0.99      0.98      0.99       101\n",
      "           3       0.90      1.00      0.95       284\n",
      "           4       0.99      0.99      0.99       197\n",
      "           5       1.00      0.96      0.98       112\n",
      "           6       1.00      0.98      0.99        62\n",
      "           7       1.00      1.00      1.00        12\n",
      "           8       0.99      0.99      0.99       151\n",
      "           9       1.00      0.98      0.99        60\n",
      "          10       0.99      0.99      0.99       102\n",
      "          11       1.00      0.97      0.99       151\n",
      "          12       1.00      0.97      0.98       120\n",
      "          13       0.99      0.98      0.99       159\n",
      "          14       0.99      0.98      0.98       143\n",
      "          15       1.00      0.97      0.99       115\n",
      "          16       1.00      0.96      0.98       107\n",
      "\n",
      "    accuracy                           0.98      2068\n",
      "   macro avg       0.99      0.98      0.98      2068\n",
      "weighted avg       0.98      0.98      0.98      2068\n",
      "\n"
     ]
    }
   ],
   "source": [
    "# classification report\n",
    "print(cr)"
   ]
  },
  {
   "cell_type": "code",
   "execution_count": 17,
   "metadata": {
    "execution": {
     "iopub.execute_input": "2021-02-10T17:52:37.640063Z",
     "iopub.status.busy": "2021-02-10T17:52:37.639427Z",
     "iopub.status.idle": "2021-02-10T17:52:39.369739Z",
     "shell.execute_reply": "2021-02-10T17:52:39.369077Z"
    },
    "papermill": {
     "duration": 1.771423,
     "end_time": "2021-02-10T17:52:39.369879",
     "exception": false,
     "start_time": "2021-02-10T17:52:37.598456",
     "status": "completed"
    },
    "tags": []
   },
   "outputs": [
    {
     "data": {
      "image/png": "[encoded data removed]",
      "text/plain": [
       "<Figure size 1080x720 with 2 Axes>"
      ]
     },
     "metadata": {
      "needs_background": "light"
     },
     "output_type": "display_data"
    }
   ],
   "source": [
    "# visualising the confusion matrix\n",
    "plt.figure(figsize=(15,10))\n",
    "sns.heatmap(cm, annot = True)\n",
    "plt.show()"
   ]
  },
  {
   "cell_type": "code",
   "execution_count": null,
   "metadata": {
    "papermill": {
     "duration": 0.018692,
     "end_time": "2021-02-10T17:52:39.407689",
     "exception": false,
     "start_time": "2021-02-10T17:52:39.388997",
     "status": "completed"
    },
    "tags": []
   },
   "outputs": [],
   "source": []
  }
 ],
 "metadata": {
  "kernelspec": {
   "display_name": "Python 3",
   "language": "python",
   "name": "python3"
  },
  "language_info": {
   "codemirror_mode": {
    "name": "ipython",
    "version": 3
   },
   "file_extension": ".py",
   "mimetype": "text/x-python",
   "name": "python",
   "nbconvert_exporter": "python",
   "pygments_lexer": "ipython3",
   "version": "3.7.9"
  },
  "papermill": {
   "default_parameters": {},
   "duration": 45.67269,
   "end_time": "2021-02-10T17:52:40.137532",
   "environment_variables": {},
   "exception": null,
   "input_path": "__notebook__.ipynb",
   "output_path": "__notebook__.ipynb",
   "parameters": {},
   "start_time": "2021-02-10T17:51:54.464842",
   "version": "2.2.2"
  }
 },
 "nbformat": 4,
 "nbformat_minor": 4
}
